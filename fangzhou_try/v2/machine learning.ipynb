{
 "cells": [
  {
   "cell_type": "code",
   "id": "initial_id",
   "metadata": {
    "collapsed": true,
    "ExecuteTime": {
     "end_time": "2024-10-20T08:08:32.208701Z",
     "start_time": "2024-10-20T08:08:32.194265Z"
    }
   },
   "source": [
    "\n",
    "# Numpy: 提供数组支持\n",
    "import numpy as np\n",
    "\n",
    "# SciPy: 提供矩阵支持，科学计算\n",
    "import scipy\n",
    "\n",
    "# Matplotlib: 可视化工具\n",
    "import matplotlib.pyplot as plt\n",
    "\n",
    "# Pandas: 数据DataFrame\n",
    "import pandas as pd\n",
    "\n",
    "#导入随机森林\n",
    "from sklearn.ensemble import RandomForestClassifier\n",
    "from sklearn.model_selection import train_test_split\n",
    "from sklearn.metrics import classification_report\n",
    "from imblearn.under_sampling import RandomUnderSampler\n",
    "\n",
    "from imblearn.under_sampling import RandomUnderSampler\n",
    "from imblearn.over_sampling import SMOTENC\n"
   ],
   "outputs": [],
   "execution_count": 43
  },
  {
   "metadata": {
    "ExecuteTime": {
     "end_time": "2024-10-20T08:08:32.270652Z",
     "start_time": "2024-10-20T08:08:32.223785Z"
    }
   },
   "cell_type": "code",
   "source": [
    "data = pd.read_csv('../../data/processed.csv', encoding='utf-8')\n",
    "print(data.info())\n",
    "print(data.describe())"
   ],
   "id": "dd07fd158e6df0df",
   "outputs": [
    {
     "name": "stdout",
     "output_type": "stream",
     "text": [
      "<class 'pandas.core.frame.DataFrame'>\n",
      "RangeIndex: 7988 entries, 0 to 7987\n",
      "Data columns (total 37 columns):\n",
      " #   Column           Non-Null Count  Dtype  \n",
      "---  ------           --------------  -----  \n",
      " 0   id               7988 non-null   int64  \n",
      " 1   happiness        7988 non-null   int64  \n",
      " 2   survey_type      7988 non-null   int64  \n",
      " 3   province         7988 non-null   int64  \n",
      " 4   city             7988 non-null   int64  \n",
      " 5   county           7988 non-null   int64  \n",
      " 6   survey_time      7988 non-null   int64  \n",
      " 7   gender           7988 non-null   int64  \n",
      " 8   birth            7988 non-null   int64  \n",
      " 9   nationality      7988 non-null   int64  \n",
      " 10  religion         7988 non-null   int64  \n",
      " 11  religion_freq    7988 non-null   int64  \n",
      " 12  edu              7988 non-null   int64  \n",
      " 13  income           7988 non-null   float64\n",
      " 14  political        7988 non-null   int64  \n",
      " 15  floor_area       7988 non-null   float64\n",
      " 16  height_cm        7988 non-null   float64\n",
      " 17  weight_jin       7988 non-null   float64\n",
      " 18  health           7988 non-null   int64  \n",
      " 19  health_problem   7988 non-null   int64  \n",
      " 20  depression       7988 non-null   int64  \n",
      " 21  hukou            7988 non-null   int64  \n",
      " 22  socialize        7988 non-null   int64  \n",
      " 23  relax            7988 non-null   int64  \n",
      " 24  learn            7988 non-null   int64  \n",
      " 25  equity           7988 non-null   int64  \n",
      " 26  class            7988 non-null   int64  \n",
      " 27  family_income    7988 non-null   float64\n",
      " 28  family_m         7988 non-null   int64  \n",
      " 29  family_status    7988 non-null   int64  \n",
      " 30  house            7988 non-null   int64  \n",
      " 31  car              7988 non-null   int64  \n",
      " 32  marital          7988 non-null   int64  \n",
      " 33  status_peer      7988 non-null   int64  \n",
      " 34  status_3_before  7988 non-null   int64  \n",
      " 35  view             7988 non-null   int64  \n",
      " 36  inc_ability      7988 non-null   int64  \n",
      "dtypes: float64(5), int64(32)\n",
      "memory usage: 2.3 MB\n",
      "None\n",
      "                id    happiness  survey_type     province         city  \\\n",
      "count  7988.000000  7988.000000  7988.000000  7988.000000  7988.000000   \n",
      "mean   4001.603906     3.867927     1.405984    15.161617    42.583250   \n",
      "std    2309.864374     0.818717     0.491112     8.915476    27.184344   \n",
      "min       1.000000     1.000000     1.000000     1.000000     1.000000   \n",
      "25%    2001.750000     4.000000     1.000000     7.000000    18.000000   \n",
      "50%    4003.500000     4.000000     1.000000    15.000000    42.000000   \n",
      "75%    6002.250000     4.000000     2.000000    22.000000    65.000000   \n",
      "max    8000.000000     5.000000     2.000000    31.000000    89.000000   \n",
      "\n",
      "           county   survey_time       gender        birth  nationality  ...  \\\n",
      "count  7988.00000   7988.000000  7988.000000  7988.000000  7988.000000  ...   \n",
      "mean     70.64647  16652.318728     1.530295  1964.702303     1.394342  ...   \n",
      "std      38.73718     25.117708     0.499113    16.848414     1.463714  ...   \n",
      "min       1.00000  16473.000000     1.000000  1921.000000     1.000000  ...   \n",
      "25%      37.00000  16635.000000     1.000000  1952.000000     1.000000  ...   \n",
      "50%      73.00000  16645.000000     2.000000  1965.000000     1.000000  ...   \n",
      "75%     104.00000  16659.000000     2.000000  1977.000000     1.000000  ...   \n",
      "max     134.00000  16738.000000     2.000000  1997.000000     8.000000  ...   \n",
      "\n",
      "       family_income     family_m  family_status        house          car  \\\n",
      "count    7988.000000  7988.000000    7988.000000  7988.000000  7988.000000   \n",
      "mean    61803.278777     2.877441       2.653731     1.095769     1.828493   \n",
      "std     69942.331244     1.364791       0.716493     0.510284     0.376975   \n",
      "min         0.000000     1.000000       1.000000     0.000000     1.000000   \n",
      "25%     20000.000000     2.000000       2.000000     1.000000     2.000000   \n",
      "50%     50000.000000     3.000000       3.000000     1.000000     2.000000   \n",
      "75%     73913.192523     4.000000       3.000000     1.000000     2.000000   \n",
      "max    500000.000000     7.000000       5.000000     3.000000     2.000000   \n",
      "\n",
      "           marital  status_peer  status_3_before         view  inc_ability  \n",
      "count  7988.000000  7988.000000      7988.000000  7988.000000  7988.000000  \n",
      "mean      3.234477     2.287056         1.756510     3.590010     2.300826  \n",
      "std       1.423383     0.547572         0.622942     0.723627     0.541748  \n",
      "min       1.000000     1.000000         1.000000     1.000000     1.000000  \n",
      "25%       3.000000     2.000000         1.000000     3.000000     2.000000  \n",
      "50%       3.000000     2.000000         2.000000     4.000000     2.000000  \n",
      "75%       3.000000     3.000000         2.000000     4.000000     3.000000  \n",
      "max       7.000000     3.000000         3.000000     5.000000     4.000000  \n",
      "\n",
      "[8 rows x 37 columns]\n"
     ]
    }
   ],
   "execution_count": 44
  },
  {
   "metadata": {},
   "cell_type": "markdown",
   "source": "# 欠采样",
   "id": "48cc5c08cf55d674"
  },
  {
   "metadata": {
    "ExecuteTime": {
     "end_time": "2024-10-20T08:08:32.317323Z",
     "start_time": "2024-10-20T08:08:32.302369Z"
    }
   },
   "cell_type": "code",
   "source": [
    "X = data.drop('happiness', axis=1)  # 特征\n",
    "y = data['happiness']  # 标签\n",
    "print(pd.DataFrame(y).value_counts())"
   ],
   "id": "2a75723cabe984cc",
   "outputs": [
    {
     "name": "stdout",
     "output_type": "stream",
     "text": [
      "happiness\n",
      "4            4818\n",
      "5            1410\n",
      "3            1159\n",
      "2             497\n",
      "1             104\n",
      "Name: count, dtype: int64\n"
     ]
    }
   ],
   "execution_count": 45
  },
  {
   "metadata": {
    "ExecuteTime": {
     "end_time": "2024-10-20T08:08:32.411383Z",
     "start_time": "2024-10-20T08:08:32.389484Z"
    }
   },
   "cell_type": "code",
   "source": [
    "sampling_strategy = {1: 104, 2: 497, 3: 1159, 4: 3000, 5: 1410}\n",
    "rus = RandomUnderSampler(random_state=42, sampling_strategy=sampling_strategy)\n",
    "X_resampled, y_resampled = rus.fit_resample(X, y)\n",
    "print(pd.DataFrame(y_resampled).value_counts())\n"
   ],
   "id": "bcba60d1fedca700",
   "outputs": [
    {
     "name": "stdout",
     "output_type": "stream",
     "text": [
      "happiness\n",
      "4            3000\n",
      "5            1410\n",
      "3            1159\n",
      "2             497\n",
      "1             104\n",
      "Name: count, dtype: int64\n"
     ]
    }
   ],
   "execution_count": 46
  },
  {
   "metadata": {},
   "cell_type": "markdown",
   "source": "# 数据增强SMOTE",
   "id": "5083d54d68082c45"
  },
  {
   "metadata": {
    "ExecuteTime": {
     "end_time": "2024-10-20T08:08:32.473477Z",
     "start_time": "2024-10-20T08:08:32.457537Z"
    }
   },
   "cell_type": "code",
   "source": [
    "X_resampled = X\n",
    "y_resampled = y"
   ],
   "id": "ec299a432a5c03ec",
   "outputs": [],
   "execution_count": 47
  },
  {
   "metadata": {
    "ExecuteTime": {
     "end_time": "2024-10-20T08:08:34.650605Z",
     "start_time": "2024-10-20T08:08:32.506029Z"
    }
   },
   "cell_type": "code",
   "source": [
    "use_resampling_strategy = {\n",
    "    1: 2300,  \n",
    "    2: 2300,  \n",
    "    3: 2500,  \n",
    "    4: 3000,  \n",
    "    5: 3000   \n",
    "}\n",
    "no_resampling_strategy = {\n",
    "    1:4700,\n",
    "    2:4818,\n",
    "    3:4800,\n",
    "    4:4818,\n",
    "    5:4850\n",
    "\n",
    "}\n",
    "# define pipeline\n",
    "smote_nc = SMOTENC(sampling_strategy=no_resampling_strategy, categorical_features=[2, 4, 5, 9],\\\n",
    "               k_neighbors = 100, random_state = 42)\n",
    "# transform the dataset\n",
    "X, y = smote_nc.fit_resample(X_resampled, y_resampled)\n",
    "\n",
    "print(pd.DataFrame(y).value_counts())\n",
    "\n"
   ],
   "id": "57353ed0bc73cbc9",
   "outputs": [
    {
     "name": "stdout",
     "output_type": "stream",
     "text": [
      "happiness\n",
      "5            4850\n",
      "2            4818\n",
      "4            4818\n",
      "3            4800\n",
      "1            4700\n",
      "Name: count, dtype: int64\n"
     ]
    }
   ],
   "execution_count": 48
  },
  {
   "metadata": {
    "ExecuteTime": {
     "end_time": "2024-10-20T08:08:38.742105Z",
     "start_time": "2024-10-20T08:08:34.683615Z"
    }
   },
   "cell_type": "code",
   "source": [
    "#随机森林测试\n",
    "clf = RandomForestClassifier(n_estimators=100,random_state=42)\n",
    "x_train, x_test, y_train, y_test = train_test_split(X, y, test_size=0.2, random_state=42)\n",
    "y_pred = clf.fit(x_train, y_train).predict(x_test)\n",
    "print('准确率:', clf.score(x_test, y_test))\n",
    "print('报告:', classification_report(y_test, y_pred))"
   ],
   "id": "f900c1835550d70e",
   "outputs": [
    {
     "name": "stdout",
     "output_type": "stream",
     "text": [
      "准确率: 0.858482701125469\n",
      "报告:               precision    recall  f1-score   support\n",
      "\n",
      "           1       0.99      0.98      0.99       926\n",
      "           2       0.95      0.91      0.93       964\n",
      "           3       0.84      0.83      0.83       948\n",
      "           4       0.67      0.84      0.74       976\n",
      "           5       0.91      0.75      0.82       984\n",
      "\n",
      "    accuracy                           0.86      4798\n",
      "   macro avg       0.87      0.86      0.86      4798\n",
      "weighted avg       0.87      0.86      0.86      4798\n",
      "\n"
     ]
    }
   ],
   "execution_count": 49
  },
  {
   "metadata": {},
   "cell_type": "markdown",
   "source": "# 主成分分析PCA",
   "id": "1b166533b455b8e"
  },
  {
   "metadata": {
    "ExecuteTime": {
     "end_time": "2024-10-20T08:08:38.820642Z",
     "start_time": "2024-10-20T08:08:38.774552Z"
    }
   },
   "cell_type": "code",
   "source": [
    "from sklearn.decomposition import PCA\n",
    "from sklearn.preprocessing import StandardScaler\n",
    "\n",
    "# 加载数据集\n",
    "# data = old3_data\n",
    "# X 在数据增强那\n",
    "# 数据标准化\n",
    "scaler = StandardScaler()\n",
    "X_scaled = scaler.fit_transform(X)\n",
    "pca = PCA()\n",
    "\n",
    "\n",
    "# 拟合PCA模型并转换数据\n",
    "X_pca = pca.fit_transform(X_scaled)\n",
    "explained_variance_ratios = pca.explained_variance_ratio_\n",
    "# 选择方差解释率大于 0.01 的主成分\n",
    "selected_components = np.where(explained_variance_ratios > 0.01)[0]\n",
    "\n",
    "# 创建新的 PCA 对象，仅保留选择的主成分\n",
    "pca_selected = PCA(n_components=len(selected_components))\n",
    "X_pca_selected = pca_selected.fit_transform(X)  # 降维\n",
    "# 打印结果\n",
    "print(\"原始数据形状：\", X.shape)\n",
    "print(\"降维后数据形状：\",X_pca_selected.shape)\n",
    "print(\"方差解释率：\", [f\"{x:.5f}\" for x in pca.explained_variance_ratio_])\n",
    "\n",
    "\n"
   ],
   "id": "20e41bcfbfc5f87",
   "outputs": [
    {
     "name": "stdout",
     "output_type": "stream",
     "text": [
      "原始数据形状： (23986, 36)\n",
      "降维后数据形状： (23986, 32)\n",
      "方差解释率： ['0.15969', '0.07649', '0.05409', '0.04618', '0.04575', '0.04470', '0.04011', '0.03410', '0.02949', '0.02798', '0.02672', '0.02581', '0.02514', '0.02391', '0.02305', '0.02225', '0.02158', '0.02123', '0.01964', '0.01937', '0.01901', '0.01812', '0.01754', '0.01637', '0.01627', '0.01577', '0.01514', '0.01365', '0.01341', '0.01314', '0.01071', '0.01016', '0.00953', '0.00856', '0.00820', '0.00713']\n"
     ]
    }
   ],
   "execution_count": 50
  },
  {
   "metadata": {
    "ExecuteTime": {
     "end_time": "2024-10-20T08:08:38.944575Z",
     "start_time": "2024-10-20T08:08:38.928407Z"
    }
   },
   "cell_type": "code",
   "source": "X_pca_selected.shape",
   "id": "37b515a325ffe4c0",
   "outputs": [
    {
     "data": {
      "text/plain": [
       "(23986, 32)"
      ]
     },
     "execution_count": 51,
     "metadata": {},
     "output_type": "execute_result"
    }
   ],
   "execution_count": 51
  },
  {
   "metadata": {
    "ExecuteTime": {
     "end_time": "2024-10-20T08:08:53.458768Z",
     "start_time": "2024-10-20T08:08:39.051850Z"
    }
   },
   "cell_type": "code",
   "source": [
    "from sklearn.model_selection import train_test_split\n",
    "from sklearn.ensemble import RandomForestClassifier\n",
    "from sklearn.metrics import accuracy_score, classification_report\n",
    "# 使用随机森林进行分类\n",
    "x=X_pca_selected\n",
    "#y 在数据增强那\n",
    "X_train,X_test,y_train,y_test = train_test_split(x,y,test_size=0.2,random_state=42)\n",
    "clf = RandomForestClassifier(n_estimators=100,random_state=42)\n",
    "y_pred = clf.fit(X_train,y_train).predict(X_test)\n",
    "print('准确率:',clf.score(X_test,y_test))\n",
    "print('报告:',classification_report(y_test,y_pred))\n"
   ],
   "id": "7d74c31d125eba2a",
   "outputs": [
    {
     "name": "stdout",
     "output_type": "stream",
     "text": [
      "准确率: 0.8080450187578158\n",
      "报告:               precision    recall  f1-score   support\n",
      "\n",
      "           1       0.98      0.97      0.97       926\n",
      "           2       0.86      0.86      0.86       964\n",
      "           3       0.77      0.70      0.73       948\n",
      "           4       0.64      0.85      0.73       976\n",
      "           5       0.87      0.67      0.76       984\n",
      "\n",
      "    accuracy                           0.81      4798\n",
      "   macro avg       0.82      0.81      0.81      4798\n",
      "weighted avg       0.82      0.81      0.81      4798\n",
      "\n"
     ]
    }
   ],
   "execution_count": 52
  }
 ],
 "metadata": {
  "kernelspec": {
   "display_name": "Python 3",
   "language": "python",
   "name": "python3"
  },
  "language_info": {
   "codemirror_mode": {
    "name": "ipython",
    "version": 2
   },
   "file_extension": ".py",
   "mimetype": "text/x-python",
   "name": "python",
   "nbconvert_exporter": "python",
   "pygments_lexer": "ipython2",
   "version": "2.7.6"
  }
 },
 "nbformat": 4,
 "nbformat_minor": 5
}
