{
 "cells": [
  {
   "cell_type": "code",
   "id": "initial_id",
   "metadata": {
    "collapsed": true,
    "ExecuteTime": {
     "end_time": "2024-10-20T07:14:52.262230Z",
     "start_time": "2024-10-20T07:14:52.254213Z"
    }
   },
   "source": [
    "\n",
    "# Numpy: 提供数组支持\n",
    "import numpy as np\n",
    "\n",
    "# SciPy: 提供矩阵支持，科学计算\n",
    "import scipy\n",
    "\n",
    "# Matplotlib: 可视化工具\n",
    "import matplotlib.pyplot as plt\n",
    "\n",
    "# Pandas: 数据DataFrame\n",
    "import pandas as pd\n",
    "\n",
    "#导入随机森林\n",
    "from sklearn.ensemble import RandomForestClassifier\n",
    "\n",
    "\n",
    "# Seaborn: Python可视化库\n",
    "import seaborn as sns"
   ],
   "outputs": [],
   "execution_count": 45
  },
  {
   "metadata": {
    "ExecuteTime": {
     "end_time": "2024-10-20T07:14:54.045895Z",
     "start_time": "2024-10-20T07:14:53.983158Z"
    }
   },
   "cell_type": "code",
   "source": [
    "data = pd.read_csv('../../data/happiness_train_abbr.csv', encoding='utf-8', encoding_errors='ignore')\n",
    "data.info()\n",
    "#设置索引\n",
    "data.set_index('id', inplace=True)\n",
    "data.describe()"
   ],
   "id": "bb1fc646ae3825a0",
   "outputs": [
    {
     "name": "stdout",
     "output_type": "stream",
     "text": [
      "<class 'pandas.core.frame.DataFrame'>\n",
      "RangeIndex: 8000 entries, 0 to 7999\n",
      "Data columns (total 42 columns):\n",
      " #   Column           Non-Null Count  Dtype  \n",
      "---  ------           --------------  -----  \n",
      " 0   id               8000 non-null   int64  \n",
      " 1   happiness        8000 non-null   int64  \n",
      " 2   survey_type      8000 non-null   int64  \n",
      " 3   province         8000 non-null   int64  \n",
      " 4   city             8000 non-null   int64  \n",
      " 5   county           8000 non-null   int64  \n",
      " 6   survey_time      8000 non-null   object \n",
      " 7   gender           8000 non-null   int64  \n",
      " 8   birth            8000 non-null   int64  \n",
      " 9   nationality      8000 non-null   int64  \n",
      " 10  religion         8000 non-null   int64  \n",
      " 11  religion_freq    8000 non-null   int64  \n",
      " 12  edu              8000 non-null   int64  \n",
      " 13  income           8000 non-null   int64  \n",
      " 14  political        8000 non-null   int64  \n",
      " 15  floor_area       8000 non-null   float64\n",
      " 16  height_cm        8000 non-null   int64  \n",
      " 17  weight_jin       8000 non-null   int64  \n",
      " 18  health           8000 non-null   int64  \n",
      " 19  health_problem   8000 non-null   int64  \n",
      " 20  depression       8000 non-null   int64  \n",
      " 21  hukou            8000 non-null   int64  \n",
      " 22  socialize        8000 non-null   int64  \n",
      " 23  relax            8000 non-null   int64  \n",
      " 24  learn            8000 non-null   int64  \n",
      " 25  equity           8000 non-null   int64  \n",
      " 26  class            8000 non-null   int64  \n",
      " 27  work_exper       8000 non-null   int64  \n",
      " 28  work_status      2951 non-null   float64\n",
      " 29  work_yr          2951 non-null   float64\n",
      " 30  work_type        2951 non-null   float64\n",
      " 31  work_manage      2951 non-null   float64\n",
      " 32  family_income    7999 non-null   float64\n",
      " 33  family_m         8000 non-null   int64  \n",
      " 34  family_status    8000 non-null   int64  \n",
      " 35  house            8000 non-null   int64  \n",
      " 36  car              8000 non-null   int64  \n",
      " 37  marital          8000 non-null   int64  \n",
      " 38  status_peer      8000 non-null   int64  \n",
      " 39  status_3_before  8000 non-null   int64  \n",
      " 40  view             8000 non-null   int64  \n",
      " 41  inc_ability      8000 non-null   int64  \n",
      "dtypes: float64(6), int64(35), object(1)\n",
      "memory usage: 2.6+ MB\n"
     ]
    },
    {
     "data": {
      "text/plain": [
       "         happiness  survey_type     province         city       county  \\\n",
       "count  8000.000000  8000.000000  8000.000000  8000.000000  8000.000000   \n",
       "mean      3.850125     1.405500    15.155375    42.564750    70.619000   \n",
       "std       0.938228     0.491019     8.917100    27.187404    38.747503   \n",
       "min      -8.000000     1.000000     1.000000     1.000000     1.000000   \n",
       "25%       4.000000     1.000000     7.000000    18.000000    37.000000   \n",
       "50%       4.000000     1.000000    15.000000    42.000000    73.000000   \n",
       "75%       4.000000     2.000000    22.000000    65.000000   104.000000   \n",
       "max       5.000000     2.000000    31.000000    89.000000   134.000000   \n",
       "\n",
       "           gender        birth  nationality     religion  religion_freq  ...  \\\n",
       "count  8000.00000  8000.000000   8000.00000  8000.000000    8000.000000  ...   \n",
       "mean      1.53000  1964.707625      1.37350     0.772250       1.427250  ...   \n",
       "std       0.49913    16.842865      1.52882     1.071459       1.408441  ...   \n",
       "min       1.00000  1921.000000     -8.00000    -8.000000      -8.000000  ...   \n",
       "25%       1.00000  1952.000000      1.00000     1.000000       1.000000  ...   \n",
       "50%       2.00000  1965.000000      1.00000     1.000000       1.000000  ...   \n",
       "75%       2.00000  1977.000000      1.00000     1.000000       1.000000  ...   \n",
       "max       2.00000  1997.000000      8.00000     1.000000       9.000000  ...   \n",
       "\n",
       "       family_income     family_m  family_status        house          car  \\\n",
       "count   7.999000e+03  8000.000000    8000.000000  8000.000000  8000.000000   \n",
       "mean    6.776050e+04     2.882500       2.595875     1.063625     1.817125   \n",
       "std     2.909591e+05     1.521835       1.077011     0.789402     0.511825   \n",
       "min    -3.000000e+00    -3.000000      -8.000000    -3.000000    -8.000000   \n",
       "25%     1.300000e+04     2.000000       2.000000     1.000000     2.000000   \n",
       "50%     3.800000e+04     3.000000       3.000000     1.000000     2.000000   \n",
       "75%     7.000000e+04     4.000000       3.000000     1.000000     2.000000   \n",
       "max     9.999992e+06    50.000000       5.000000    30.000000     2.000000   \n",
       "\n",
       "           marital  status_peer  status_3_before        view  inc_ability  \n",
       "count  8000.000000  8000.000000      8000.000000  8000.00000  8000.000000  \n",
       "mean      3.234375     2.226125         1.702500     3.30350     1.094875  \n",
       "std       1.423182     0.971525         0.976147     1.98132     3.410180  \n",
       "min       1.000000    -8.000000        -8.000000    -8.00000    -8.000000  \n",
       "25%       3.000000     2.000000         1.000000     3.00000     2.000000  \n",
       "50%       3.000000     2.000000         2.000000     4.00000     2.000000  \n",
       "75%       3.000000     3.000000         2.000000     4.00000     3.000000  \n",
       "max       7.000000     3.000000         3.000000     5.00000     4.000000  \n",
       "\n",
       "[8 rows x 40 columns]"
      ],
      "text/html": [
       "<div>\n",
       "<style scoped>\n",
       "    .dataframe tbody tr th:only-of-type {\n",
       "        vertical-align: middle;\n",
       "    }\n",
       "\n",
       "    .dataframe tbody tr th {\n",
       "        vertical-align: top;\n",
       "    }\n",
       "\n",
       "    .dataframe thead th {\n",
       "        text-align: right;\n",
       "    }\n",
       "</style>\n",
       "<table border=\"1\" class=\"dataframe\">\n",
       "  <thead>\n",
       "    <tr style=\"text-align: right;\">\n",
       "      <th></th>\n",
       "      <th>happiness</th>\n",
       "      <th>survey_type</th>\n",
       "      <th>province</th>\n",
       "      <th>city</th>\n",
       "      <th>county</th>\n",
       "      <th>gender</th>\n",
       "      <th>birth</th>\n",
       "      <th>nationality</th>\n",
       "      <th>religion</th>\n",
       "      <th>religion_freq</th>\n",
       "      <th>...</th>\n",
       "      <th>family_income</th>\n",
       "      <th>family_m</th>\n",
       "      <th>family_status</th>\n",
       "      <th>house</th>\n",
       "      <th>car</th>\n",
       "      <th>marital</th>\n",
       "      <th>status_peer</th>\n",
       "      <th>status_3_before</th>\n",
       "      <th>view</th>\n",
       "      <th>inc_ability</th>\n",
       "    </tr>\n",
       "  </thead>\n",
       "  <tbody>\n",
       "    <tr>\n",
       "      <th>count</th>\n",
       "      <td>8000.000000</td>\n",
       "      <td>8000.000000</td>\n",
       "      <td>8000.000000</td>\n",
       "      <td>8000.000000</td>\n",
       "      <td>8000.000000</td>\n",
       "      <td>8000.00000</td>\n",
       "      <td>8000.000000</td>\n",
       "      <td>8000.00000</td>\n",
       "      <td>8000.000000</td>\n",
       "      <td>8000.000000</td>\n",
       "      <td>...</td>\n",
       "      <td>7.999000e+03</td>\n",
       "      <td>8000.000000</td>\n",
       "      <td>8000.000000</td>\n",
       "      <td>8000.000000</td>\n",
       "      <td>8000.000000</td>\n",
       "      <td>8000.000000</td>\n",
       "      <td>8000.000000</td>\n",
       "      <td>8000.000000</td>\n",
       "      <td>8000.00000</td>\n",
       "      <td>8000.000000</td>\n",
       "    </tr>\n",
       "    <tr>\n",
       "      <th>mean</th>\n",
       "      <td>3.850125</td>\n",
       "      <td>1.405500</td>\n",
       "      <td>15.155375</td>\n",
       "      <td>42.564750</td>\n",
       "      <td>70.619000</td>\n",
       "      <td>1.53000</td>\n",
       "      <td>1964.707625</td>\n",
       "      <td>1.37350</td>\n",
       "      <td>0.772250</td>\n",
       "      <td>1.427250</td>\n",
       "      <td>...</td>\n",
       "      <td>6.776050e+04</td>\n",
       "      <td>2.882500</td>\n",
       "      <td>2.595875</td>\n",
       "      <td>1.063625</td>\n",
       "      <td>1.817125</td>\n",
       "      <td>3.234375</td>\n",
       "      <td>2.226125</td>\n",
       "      <td>1.702500</td>\n",
       "      <td>3.30350</td>\n",
       "      <td>1.094875</td>\n",
       "    </tr>\n",
       "    <tr>\n",
       "      <th>std</th>\n",
       "      <td>0.938228</td>\n",
       "      <td>0.491019</td>\n",
       "      <td>8.917100</td>\n",
       "      <td>27.187404</td>\n",
       "      <td>38.747503</td>\n",
       "      <td>0.49913</td>\n",
       "      <td>16.842865</td>\n",
       "      <td>1.52882</td>\n",
       "      <td>1.071459</td>\n",
       "      <td>1.408441</td>\n",
       "      <td>...</td>\n",
       "      <td>2.909591e+05</td>\n",
       "      <td>1.521835</td>\n",
       "      <td>1.077011</td>\n",
       "      <td>0.789402</td>\n",
       "      <td>0.511825</td>\n",
       "      <td>1.423182</td>\n",
       "      <td>0.971525</td>\n",
       "      <td>0.976147</td>\n",
       "      <td>1.98132</td>\n",
       "      <td>3.410180</td>\n",
       "    </tr>\n",
       "    <tr>\n",
       "      <th>min</th>\n",
       "      <td>-8.000000</td>\n",
       "      <td>1.000000</td>\n",
       "      <td>1.000000</td>\n",
       "      <td>1.000000</td>\n",
       "      <td>1.000000</td>\n",
       "      <td>1.00000</td>\n",
       "      <td>1921.000000</td>\n",
       "      <td>-8.00000</td>\n",
       "      <td>-8.000000</td>\n",
       "      <td>-8.000000</td>\n",
       "      <td>...</td>\n",
       "      <td>-3.000000e+00</td>\n",
       "      <td>-3.000000</td>\n",
       "      <td>-8.000000</td>\n",
       "      <td>-3.000000</td>\n",
       "      <td>-8.000000</td>\n",
       "      <td>1.000000</td>\n",
       "      <td>-8.000000</td>\n",
       "      <td>-8.000000</td>\n",
       "      <td>-8.00000</td>\n",
       "      <td>-8.000000</td>\n",
       "    </tr>\n",
       "    <tr>\n",
       "      <th>25%</th>\n",
       "      <td>4.000000</td>\n",
       "      <td>1.000000</td>\n",
       "      <td>7.000000</td>\n",
       "      <td>18.000000</td>\n",
       "      <td>37.000000</td>\n",
       "      <td>1.00000</td>\n",
       "      <td>1952.000000</td>\n",
       "      <td>1.00000</td>\n",
       "      <td>1.000000</td>\n",
       "      <td>1.000000</td>\n",
       "      <td>...</td>\n",
       "      <td>1.300000e+04</td>\n",
       "      <td>2.000000</td>\n",
       "      <td>2.000000</td>\n",
       "      <td>1.000000</td>\n",
       "      <td>2.000000</td>\n",
       "      <td>3.000000</td>\n",
       "      <td>2.000000</td>\n",
       "      <td>1.000000</td>\n",
       "      <td>3.00000</td>\n",
       "      <td>2.000000</td>\n",
       "    </tr>\n",
       "    <tr>\n",
       "      <th>50%</th>\n",
       "      <td>4.000000</td>\n",
       "      <td>1.000000</td>\n",
       "      <td>15.000000</td>\n",
       "      <td>42.000000</td>\n",
       "      <td>73.000000</td>\n",
       "      <td>2.00000</td>\n",
       "      <td>1965.000000</td>\n",
       "      <td>1.00000</td>\n",
       "      <td>1.000000</td>\n",
       "      <td>1.000000</td>\n",
       "      <td>...</td>\n",
       "      <td>3.800000e+04</td>\n",
       "      <td>3.000000</td>\n",
       "      <td>3.000000</td>\n",
       "      <td>1.000000</td>\n",
       "      <td>2.000000</td>\n",
       "      <td>3.000000</td>\n",
       "      <td>2.000000</td>\n",
       "      <td>2.000000</td>\n",
       "      <td>4.00000</td>\n",
       "      <td>2.000000</td>\n",
       "    </tr>\n",
       "    <tr>\n",
       "      <th>75%</th>\n",
       "      <td>4.000000</td>\n",
       "      <td>2.000000</td>\n",
       "      <td>22.000000</td>\n",
       "      <td>65.000000</td>\n",
       "      <td>104.000000</td>\n",
       "      <td>2.00000</td>\n",
       "      <td>1977.000000</td>\n",
       "      <td>1.00000</td>\n",
       "      <td>1.000000</td>\n",
       "      <td>1.000000</td>\n",
       "      <td>...</td>\n",
       "      <td>7.000000e+04</td>\n",
       "      <td>4.000000</td>\n",
       "      <td>3.000000</td>\n",
       "      <td>1.000000</td>\n",
       "      <td>2.000000</td>\n",
       "      <td>3.000000</td>\n",
       "      <td>3.000000</td>\n",
       "      <td>2.000000</td>\n",
       "      <td>4.00000</td>\n",
       "      <td>3.000000</td>\n",
       "    </tr>\n",
       "    <tr>\n",
       "      <th>max</th>\n",
       "      <td>5.000000</td>\n",
       "      <td>2.000000</td>\n",
       "      <td>31.000000</td>\n",
       "      <td>89.000000</td>\n",
       "      <td>134.000000</td>\n",
       "      <td>2.00000</td>\n",
       "      <td>1997.000000</td>\n",
       "      <td>8.00000</td>\n",
       "      <td>1.000000</td>\n",
       "      <td>9.000000</td>\n",
       "      <td>...</td>\n",
       "      <td>9.999992e+06</td>\n",
       "      <td>50.000000</td>\n",
       "      <td>5.000000</td>\n",
       "      <td>30.000000</td>\n",
       "      <td>2.000000</td>\n",
       "      <td>7.000000</td>\n",
       "      <td>3.000000</td>\n",
       "      <td>3.000000</td>\n",
       "      <td>5.00000</td>\n",
       "      <td>4.000000</td>\n",
       "    </tr>\n",
       "  </tbody>\n",
       "</table>\n",
       "<p>8 rows × 40 columns</p>\n",
       "</div>"
      ]
     },
     "execution_count": 46,
     "metadata": {},
     "output_type": "execute_result"
    }
   ],
   "execution_count": 46
  },
  {
   "metadata": {},
   "cell_type": "markdown",
   "source": "## 对survey_time 进行处理",
   "id": "3843bbe332fdab79"
  },
  {
   "metadata": {
    "ExecuteTime": {
     "end_time": "2024-10-20T07:14:56.890611Z",
     "start_time": "2024-10-20T07:14:56.878880Z"
    }
   },
   "cell_type": "code",
   "source": [
    "data.survey_time = pd.to_datetime(data.survey_time)\n",
    "data.survey_time.describe()\n",
    "data['survey_time'] = (data['survey_time'] - pd.Timestamp('1970-01-01'))// pd.Timedelta('1D')"
   ],
   "id": "9d58576a216207f6",
   "outputs": [],
   "execution_count": 47
  },
  {
   "metadata": {},
   "cell_type": "markdown",
   "source": "# 缺失值处理",
   "id": "7240515dd70a29ff"
  },
  {
   "metadata": {
    "ExecuteTime": {
     "end_time": "2024-10-20T07:14:58.875863Z",
     "start_time": "2024-10-20T07:14:58.852589Z"
    }
   },
   "cell_type": "code",
   "source": [
    "data.replace(-8, np.nan, inplace=True)\n",
    "data.replace(-3, np.nan, inplace=True)\n",
    "data.replace(-2, np.nan, inplace=True)\n",
    "data.replace(-1, np.nan, inplace=True)\n",
    "data.isnull().sum()"
   ],
   "id": "1490c22e34de7d30",
   "outputs": [
    {
     "data": {
      "text/plain": [
       "happiness            12\n",
       "survey_type           0\n",
       "province              0\n",
       "city                  0\n",
       "county                0\n",
       "survey_time           0\n",
       "gender                0\n",
       "birth                 0\n",
       "nationality          18\n",
       "religion            108\n",
       "religion_freq        15\n",
       "edu                  11\n",
       "income              441\n",
       "political            41\n",
       "floor_area            0\n",
       "height_cm             0\n",
       "weight_jin            0\n",
       "health                5\n",
       "health_problem       43\n",
       "depression           16\n",
       "hukou                 0\n",
       "socialize             6\n",
       "relax                17\n",
       "learn                21\n",
       "equity               42\n",
       "class                81\n",
       "work_exper            0\n",
       "work_status        5074\n",
       "work_yr            5207\n",
       "work_type          5117\n",
       "work_manage        5108\n",
       "family_income       667\n",
       "family_m             22\n",
       "family_status        46\n",
       "house               118\n",
       "car                  10\n",
       "marital               0\n",
       "status_peer          49\n",
       "status_3_before      48\n",
       "view                208\n",
       "inc_ability         965\n",
       "dtype: int64"
      ]
     },
     "execution_count": 48,
     "metadata": {},
     "output_type": "execute_result"
    }
   ],
   "execution_count": 48
  },
  {
   "metadata": {
    "ExecuteTime": {
     "end_time": "2024-10-20T07:15:01.341512Z",
     "start_time": "2024-10-20T07:15:01.330481Z"
    }
   },
   "cell_type": "code",
   "source": [
    "data.dropna(subset=['happiness'],inplace=True)\n",
    "data['happiness'].isnull().sum()"
   ],
   "id": "b58fc7802f9033bd",
   "outputs": [
    {
     "data": {
      "text/plain": [
       "0"
      ]
     },
     "execution_count": 49,
     "metadata": {},
     "output_type": "execute_result"
    }
   ],
   "execution_count": 49
  },
  {
   "metadata": {
    "ExecuteTime": {
     "end_time": "2024-10-20T07:15:03.011340Z",
     "start_time": "2024-10-20T07:15:02.994795Z"
    }
   },
   "cell_type": "code",
   "source": "data.isnull().sum()",
   "id": "4eb3c01b5e82000b",
   "outputs": [
    {
     "data": {
      "text/plain": [
       "happiness             0\n",
       "survey_type           0\n",
       "province              0\n",
       "city                  0\n",
       "county                0\n",
       "survey_time           0\n",
       "gender                0\n",
       "birth                 0\n",
       "nationality          18\n",
       "religion            104\n",
       "religion_freq        15\n",
       "edu                   9\n",
       "income              434\n",
       "political            39\n",
       "floor_area            0\n",
       "height_cm             0\n",
       "weight_jin            0\n",
       "health                3\n",
       "health_problem       41\n",
       "depression           14\n",
       "hukou                 0\n",
       "socialize             4\n",
       "relax                15\n",
       "learn                19\n",
       "equity               39\n",
       "class                76\n",
       "work_exper            0\n",
       "work_status        5065\n",
       "work_yr            5198\n",
       "work_type          5108\n",
       "work_manage        5099\n",
       "family_income       659\n",
       "family_m             21\n",
       "family_status        42\n",
       "house               115\n",
       "car                   8\n",
       "marital               0\n",
       "status_peer          46\n",
       "status_3_before      45\n",
       "view                203\n",
       "inc_ability         959\n",
       "dtype: int64"
      ]
     },
     "execution_count": 50,
     "metadata": {},
     "output_type": "execute_result"
    }
   ],
   "execution_count": 50
  },
  {
   "metadata": {
    "ExecuteTime": {
     "end_time": "2024-10-20T07:15:06.069983Z",
     "start_time": "2024-10-20T07:15:06.056619Z"
    }
   },
   "cell_type": "code",
   "source": [
    "hava_work_data = data.copy()\n",
    "data[['work_exper','work_manage','work_status','work_type','work_yr']].corrwith(data['happiness'],method='spearman')"
   ],
   "id": "ed6448e6d0cc591f",
   "outputs": [
    {
     "data": {
      "text/plain": [
       "work_exper     0.020238\n",
       "work_manage   -0.103015\n",
       "work_status   -0.056026\n",
       "work_type     -0.059035\n",
       "work_yr       -0.033845\n",
       "dtype: float64"
      ]
     },
     "execution_count": 51,
     "metadata": {},
     "output_type": "execute_result"
    }
   ],
   "execution_count": 51
  },
  {
   "metadata": {
    "ExecuteTime": {
     "end_time": "2024-10-20T07:15:08.319491Z",
     "start_time": "2024-10-20T07:15:08.308822Z"
    }
   },
   "cell_type": "code",
   "source": [
    "data.drop(['work_exper','work_manage','work_status','work_type','work_yr'],axis=1,inplace=True)\n",
    "data.info()"
   ],
   "id": "210066ad9678308f",
   "outputs": [
    {
     "name": "stdout",
     "output_type": "stream",
     "text": [
      "<class 'pandas.core.frame.DataFrame'>\n",
      "Index: 7988 entries, 1 to 8000\n",
      "Data columns (total 36 columns):\n",
      " #   Column           Non-Null Count  Dtype  \n",
      "---  ------           --------------  -----  \n",
      " 0   happiness        7988 non-null   float64\n",
      " 1   survey_type      7988 non-null   int64  \n",
      " 2   province         7988 non-null   int64  \n",
      " 3   city             7988 non-null   int64  \n",
      " 4   county           7988 non-null   int64  \n",
      " 5   survey_time      7988 non-null   int64  \n",
      " 6   gender           7988 non-null   int64  \n",
      " 7   birth            7988 non-null   int64  \n",
      " 8   nationality      7970 non-null   float64\n",
      " 9   religion         7884 non-null   float64\n",
      " 10  religion_freq    7973 non-null   float64\n",
      " 11  edu              7979 non-null   float64\n",
      " 12  income           7554 non-null   float64\n",
      " 13  political        7949 non-null   float64\n",
      " 14  floor_area       7988 non-null   float64\n",
      " 15  height_cm        7988 non-null   int64  \n",
      " 16  weight_jin       7988 non-null   int64  \n",
      " 17  health           7985 non-null   float64\n",
      " 18  health_problem   7947 non-null   float64\n",
      " 19  depression       7974 non-null   float64\n",
      " 20  hukou            7988 non-null   int64  \n",
      " 21  socialize        7984 non-null   float64\n",
      " 22  relax            7973 non-null   float64\n",
      " 23  learn            7969 non-null   float64\n",
      " 24  equity           7949 non-null   float64\n",
      " 25  class            7912 non-null   float64\n",
      " 26  family_income    7329 non-null   float64\n",
      " 27  family_m         7967 non-null   float64\n",
      " 28  family_status    7946 non-null   float64\n",
      " 29  house            7873 non-null   float64\n",
      " 30  car              7980 non-null   float64\n",
      " 31  marital          7988 non-null   int64  \n",
      " 32  status_peer      7942 non-null   float64\n",
      " 33  status_3_before  7943 non-null   float64\n",
      " 34  view             7785 non-null   float64\n",
      " 35  inc_ability      7029 non-null   float64\n",
      "dtypes: float64(25), int64(11)\n",
      "memory usage: 2.3 MB\n"
     ]
    }
   ],
   "execution_count": 52
  },
  {
   "metadata": {
    "ExecuteTime": {
     "end_time": "2024-10-20T05:52:56.640154Z",
     "start_time": "2024-10-20T05:52:56.625927Z"
    }
   },
   "cell_type": "code",
   "source": [
    "#回滚\n",
    "# old_data=data.copy()\n",
    "\n",
    "# data = old_data\n",
    "# 缺失值填充后数据 = data \n"
   ],
   "id": "214f936fb0802c0a",
   "outputs": [],
   "execution_count": 9
  },
  {
   "metadata": {
    "ExecuteTime": {
     "end_time": "2024-10-20T07:15:12.199178Z",
     "start_time": "2024-10-20T07:15:11.608964Z"
    }
   },
   "cell_type": "code",
   "source": [
    "# 缺失值填充\n",
    "from sklearn.impute import KNNImputer\n",
    "impute = KNNImputer()\n",
    "for i in  data.select_dtypes(include=\"number\").columns:\n",
    "    data[i]=impute.fit_transform(data[[i]])\n",
    "data.isnull().sum()\n",
    "old_data=data.copy()"
   ],
   "id": "1763bca15c3e7e2b",
   "outputs": [],
   "execution_count": 53
  },
  {
   "metadata": {
    "ExecuteTime": {
     "end_time": "2024-10-20T07:15:14.370726Z",
     "start_time": "2024-10-20T07:15:14.359045Z"
    }
   },
   "cell_type": "code",
   "source": [
    "# data = 缺失值填充后数据\n",
    "for i in data.select_dtypes('float64').columns:\n",
    "    if i in ['income','floor_area','height_cm','weight_jin','family_income']:\n",
    "        continue\n",
    "    data[i] = data[i].astype('int64')\n",
    "data.info()"
   ],
   "id": "c628530e695cf29e",
   "outputs": [
    {
     "name": "stdout",
     "output_type": "stream",
     "text": [
      "<class 'pandas.core.frame.DataFrame'>\n",
      "Index: 7988 entries, 1 to 8000\n",
      "Data columns (total 36 columns):\n",
      " #   Column           Non-Null Count  Dtype  \n",
      "---  ------           --------------  -----  \n",
      " 0   happiness        7988 non-null   int64  \n",
      " 1   survey_type      7988 non-null   int64  \n",
      " 2   province         7988 non-null   int64  \n",
      " 3   city             7988 non-null   int64  \n",
      " 4   county           7988 non-null   int64  \n",
      " 5   survey_time      7988 non-null   int64  \n",
      " 6   gender           7988 non-null   int64  \n",
      " 7   birth            7988 non-null   int64  \n",
      " 8   nationality      7988 non-null   int64  \n",
      " 9   religion         7988 non-null   int64  \n",
      " 10  religion_freq    7988 non-null   int64  \n",
      " 11  edu              7988 non-null   int64  \n",
      " 12  income           7988 non-null   float64\n",
      " 13  political        7988 non-null   int64  \n",
      " 14  floor_area       7988 non-null   float64\n",
      " 15  height_cm        7988 non-null   float64\n",
      " 16  weight_jin       7988 non-null   float64\n",
      " 17  health           7988 non-null   int64  \n",
      " 18  health_problem   7988 non-null   int64  \n",
      " 19  depression       7988 non-null   int64  \n",
      " 20  hukou            7988 non-null   int64  \n",
      " 21  socialize        7988 non-null   int64  \n",
      " 22  relax            7988 non-null   int64  \n",
      " 23  learn            7988 non-null   int64  \n",
      " 24  equity           7988 non-null   int64  \n",
      " 25  class            7988 non-null   int64  \n",
      " 26  family_income    7988 non-null   float64\n",
      " 27  family_m         7988 non-null   int64  \n",
      " 28  family_status    7988 non-null   int64  \n",
      " 29  house            7988 non-null   int64  \n",
      " 30  car              7988 non-null   int64  \n",
      " 31  marital          7988 non-null   int64  \n",
      " 32  status_peer      7988 non-null   int64  \n",
      " 33  status_3_before  7988 non-null   int64  \n",
      " 34  view             7988 non-null   int64  \n",
      " 35  inc_ability      7988 non-null   int64  \n",
      "dtypes: float64(5), int64(31)\n",
      "memory usage: 2.3 MB\n"
     ]
    }
   ],
   "execution_count": 54
  },
  {
   "metadata": {},
   "cell_type": "markdown",
   "source": "# 数据可视化",
   "id": "9aacaa00b012b905"
  },
  {
   "metadata": {
    "ExecuteTime": {
     "end_time": "2024-10-20T05:52:57.785864Z",
     "start_time": "2024-10-20T05:52:57.297413Z"
    }
   },
   "cell_type": "code",
   "source": [
    "for i in data.select_dtypes(include=\"float64\").columns :\n",
    "    sns.boxplot(data , x=i)\n",
    "    plt.show()"
   ],
   "id": "97509682b7c7ae2a",
   "outputs": [
    {
     "data": {
      "text/plain": [
       "<Figure size 640x480 with 1 Axes>"
      ],
      "image/png": "[encoded data removed]"
     },
     "metadata": {},
     "output_type": "display_data"
    },
    {
     "data": {
      "text/plain": [
       "<Figure size 640x480 with 1 Axes>"
      ],
      "image/png": "[encoded data removed]"
     },
     "metadata": {},
     "output_type": "display_data"
    },
    {
     "data": {
      "text/plain": [
       "<Figure size 640x480 with 1 Axes>"
      ],
      "image/png": "[encoded data removed]"
     },
     "metadata": {},
     "output_type": "display_data"
    },
    {
     "data": {
      "text/plain": [
       "<Figure size 640x480 with 1 Axes>"
      ],
      "image/png": "[encoded data removed]"
     },
     "metadata": {},
     "output_type": "display_data"
    },
    {
     "data": {
      "text/plain": [
       "<Figure size 640x480 with 1 Axes>"
      ],
      "image/png": "[encoded data removed]"
     },
     "metadata": {},
     "output_type": "display_data"
    }
   ],
   "execution_count": 12
  },
  {
   "metadata": {
    "ExecuteTime": {
     "end_time": "2024-10-20T05:52:57.833454Z",
     "start_time": "2024-10-20T05:52:57.818453Z"
    }
   },
   "cell_type": "code",
   "source": [
    "# for i in data.select_dtypes('int64').columns:\n",
    "#     sns.histplot(data[i])\n",
    "#     plt.title = i\n",
    "#     plt.show()"
   ],
   "id": "710533a52f7833d4",
   "outputs": [],
   "execution_count": 13
  },
  {
   "metadata": {},
   "cell_type": "markdown",
   "source": "# 处理连续变量的离群值",
   "id": "3c4ae2d799c56a4"
  },
  {
   "metadata": {
    "ExecuteTime": {
     "end_time": "2024-10-20T05:52:57.959355Z",
     "start_time": "2024-10-20T05:52:57.866396Z"
    }
   },
   "cell_type": "code",
   "source": [
    "#连续变量有'income','floor_area','height_cm','weight_jin','family_income'\n",
    "sns.boxplot(data,x='income')\n",
    "print(data['income'].describe().round(1))\n",
    "plt.show()"
   ],
   "id": "7095e8bb1dbcf56d",
   "outputs": [
    {
     "name": "stdout",
     "output_type": "stream",
     "text": [
      "count       7988.0\n",
      "mean       35259.6\n",
      "std       233020.3\n",
      "min            0.0\n",
      "25%         3600.0\n",
      "50%        20000.0\n",
      "75%        36000.0\n",
      "max      9999990.0\n",
      "Name: income, dtype: float64\n"
     ]
    },
    {
     "data": {
      "text/plain": [
       "<Figure size 640x480 with 1 Axes>"
      ],
      "image/png": "[encoded data removed]"
     },
     "metadata": {},
     "output_type": "display_data"
    }
   ],
   "execution_count": 14
  },
  {
   "metadata": {
    "ExecuteTime": {
     "end_time": "2024-10-20T05:52:58.007456Z",
     "start_time": "2024-10-20T05:52:58.001453Z"
    }
   },
   "cell_type": "code",
   "source": [
    "# 替换不正常的值，最大为第 95%的数据\n",
    "# upper = data['income'].quantile(0.95)\n",
    "# data['income'].clip(upper=upper,inplace=True)\n",
    "# print(data['income'].describe())\n",
    "# sns.boxplot(x=data['income'])\n",
    "# plt.show()\n",
    "old2_data = data"
   ],
   "id": "1a868f3d10da4ce5",
   "outputs": [],
   "execution_count": 15
  },
  {
   "metadata": {
    "ExecuteTime": {
     "end_time": "2024-10-20T07:15:30.139941Z",
     "start_time": "2024-10-20T07:15:29.708421Z"
    }
   },
   "cell_type": "code",
   "source": [
    "#换！\n",
    "data = old2_data\n",
    "for i in ['income','floor_area','height_cm','weight_jin','family_income']:\n",
    "    upper = data[i].quantile(0.99)\n",
    "    lower = data[i].quantile(0.01)\n",
    "    data[i].clip(upper=upper,lower=lower,inplace=True)\n",
    "    sns.boxplot(data,x=i)\n",
    "    plt.show()"
   ],
   "id": "8e8bb375e15174d6",
   "outputs": [
    {
     "data": {
      "text/plain": [
       "<Figure size 640x480 with 1 Axes>"
      ],
      "image/png": "[encoded data removed]"
     },
     "metadata": {},
     "output_type": "display_data"
    },
    {
     "data": {
      "text/plain": [
       "<Figure size 640x480 with 1 Axes>"
      ],
      "image/png": "[encoded data removed]"
     },
     "metadata": {},
     "output_type": "display_data"
    },
    {
     "data": {
      "text/plain": [
       "<Figure size 640x480 with 1 Axes>"
      ],
      "image/png": "[encoded data removed]"
     },
     "metadata": {},
     "output_type": "display_data"
    },
    {
     "data": {
      "text/plain": [
       "<Figure size 640x480 with 1 Axes>"
      ],
      "image/png": "[encoded data removed]"
     },
     "metadata": {},
     "output_type": "display_data"
    },
    {
     "data": {
      "text/plain": [
       "<Figure size 640x480 with 1 Axes>"
      ],
      "image/png": "[encoded data removed]"
     },
     "metadata": {},
     "output_type": "display_data"
    }
   ],
   "execution_count": 55
  },
  {
   "metadata": {},
   "cell_type": "markdown",
   "source": "# 处理离散变量离群值",
   "id": "c0741ab683120662"
  },
  {
   "metadata": {
    "ExecuteTime": {
     "end_time": "2024-10-20T05:52:58.510290Z",
     "start_time": "2024-10-20T05:52:58.495998Z"
    }
   },
   "cell_type": "code",
   "source": "print(data.info())",
   "id": "76a64abf716e034",
   "outputs": [
    {
     "name": "stdout",
     "output_type": "stream",
     "text": [
      "<class 'pandas.core.frame.DataFrame'>\n",
      "Index: 7988 entries, 1 to 8000\n",
      "Data columns (total 36 columns):\n",
      " #   Column           Non-Null Count  Dtype         \n",
      "---  ------           --------------  -----         \n",
      " 0   happiness        7988 non-null   int64         \n",
      " 1   survey_type      7988 non-null   int64         \n",
      " 2   province         7988 non-null   int64         \n",
      " 3   city             7988 non-null   int64         \n",
      " 4   county           7988 non-null   int64         \n",
      " 5   survey_time      7988 non-null   datetime64[ns]\n",
      " 6   gender           7988 non-null   int64         \n",
      " 7   birth            7988 non-null   int64         \n",
      " 8   nationality      7988 non-null   int64         \n",
      " 9   religion         7988 non-null   int64         \n",
      " 10  religion_freq    7988 non-null   int64         \n",
      " 11  edu              7988 non-null   int64         \n",
      " 12  income           7988 non-null   float64       \n",
      " 13  political        7988 non-null   int64         \n",
      " 14  floor_area       7988 non-null   float64       \n",
      " 15  height_cm        7988 non-null   float64       \n",
      " 16  weight_jin       7988 non-null   float64       \n",
      " 17  health           7988 non-null   int64         \n",
      " 18  health_problem   7988 non-null   int64         \n",
      " 19  depression       7988 non-null   int64         \n",
      " 20  hukou            7988 non-null   int64         \n",
      " 21  socialize        7988 non-null   int64         \n",
      " 22  relax            7988 non-null   int64         \n",
      " 23  learn            7988 non-null   int64         \n",
      " 24  equity           7988 non-null   int64         \n",
      " 25  class            7988 non-null   int64         \n",
      " 26  family_income    7988 non-null   float64       \n",
      " 27  family_m         7988 non-null   int64         \n",
      " 28  family_status    7988 non-null   int64         \n",
      " 29  house            7988 non-null   int64         \n",
      " 30  car              7988 non-null   int64         \n",
      " 31  marital          7988 non-null   int64         \n",
      " 32  status_peer      7988 non-null   int64         \n",
      " 33  status_3_before  7988 non-null   int64         \n",
      " 34  view             7988 non-null   int64         \n",
      " 35  inc_ability      7988 non-null   int64         \n",
      "dtypes: datetime64[ns](1), float64(5), int64(30)\n",
      "memory usage: 2.3 MB\n",
      "None\n"
     ]
    }
   ],
   "execution_count": 17
  },
  {
   "metadata": {
    "ExecuteTime": {
     "end_time": "2024-10-20T07:16:10.686693Z",
     "start_time": "2024-10-20T07:16:10.456513Z"
    }
   },
   "cell_type": "code",
   "source": [
    "#family_m,house 是离散变量\n",
    "for i in ['family_m','house']:\n",
    "    upper = data[i].quantile(0.99)\n",
    "    lower = data[i].quantile(0.01)\n",
    "    data[i].clip(lower=lower,upper=upper,inplace=True)\n",
    "    print(data[i].describe())\n",
    "    sns.histplot(data[i])\n",
    "    plt.show()"
   ],
   "id": "3531cc34d13249ef",
   "outputs": [
    {
     "name": "stdout",
     "output_type": "stream",
     "text": [
      "count    7988.000000\n",
      "mean        2.877441\n",
      "std         1.364791\n",
      "min         1.000000\n",
      "25%         2.000000\n",
      "50%         3.000000\n",
      "75%         4.000000\n",
      "max         7.000000\n",
      "Name: family_m, dtype: float64\n"
     ]
    },
    {
     "data": {
      "text/plain": [
       "<Figure size 640x480 with 1 Axes>"
      ],
      "image/png": "[encoded data removed]"
     },
     "metadata": {},
     "output_type": "display_data"
    },
    {
     "name": "stdout",
     "output_type": "stream",
     "text": [
      "count    7988.000000\n",
      "mean        1.095769\n",
      "std         0.510284\n",
      "min         0.000000\n",
      "25%         1.000000\n",
      "50%         1.000000\n",
      "75%         1.000000\n",
      "max         3.000000\n",
      "Name: house, dtype: float64\n"
     ]
    },
    {
     "data": {
      "text/plain": [
       "<Figure size 640x480 with 1 Axes>"
      ],
      "image/png": "[encoded data removed]"
     },
     "metadata": {},
     "output_type": "display_data"
    }
   ],
   "execution_count": 56
  },
  {
   "metadata": {
    "ExecuteTime": {
     "end_time": "2024-10-20T07:34:37.738487Z",
     "start_time": "2024-10-20T07:34:37.683821Z"
    }
   },
   "cell_type": "code",
   "source": [
    "# 导出数据集\n",
    "data.to_csv('../../data/processed.csv',index=True)"
   ],
   "id": "78160b3b9a914fb7",
   "outputs": [],
   "execution_count": 64
  },
  {
   "metadata": {
    "ExecuteTime": {
     "end_time": "2024-10-20T06:57:51.976557Z",
     "start_time": "2024-10-20T06:57:50.784091Z"
    }
   },
   "cell_type": "code",
   "source": [
    "from sklearn.model_selection import train_test_split\n",
    "from sklearn.ensemble import RandomForestClassifier\n",
    "from sklearn.metrics import accuracy_score, classification_report\n",
    "# old3_data = data\n",
    "# data['survey_time'] = (data['survey_time'] - pd.Timestamp('1970-01-01'))// pd.Timedelta('1D')\n",
    "# 使用随机森林进行分类\n",
    "x = data.drop('happiness',axis=1)\n",
    "y = data['happiness']\n",
    "X_train,X_test,y_train,y_test = train_test_split(x,y,test_size=0.2,random_state=42)\n",
    "clf = RandomForestClassifier(n_estimators=100,random_state=42)\n",
    "y_pred = clf.fit(X_train,y_train).predict(X_test)\n",
    "print('准确率:',clf.score(X_test,y_test))\n",
    "print('报告:',classification_report(y_test,y_pred))\n",
    "# data = old3_data"
   ],
   "id": "df10b2809880b9e8",
   "outputs": [
    {
     "name": "stdout",
     "output_type": "stream",
     "text": [
      "准确率: 0.6226533166458073\n",
      "报告:               precision    recall  f1-score   support\n",
      "\n",
      "           1       0.67      0.11      0.19        18\n",
      "           2       0.37      0.10      0.16        99\n",
      "           3       0.46      0.09      0.15       233\n",
      "           4       0.63      0.97      0.77       969\n",
      "           5       0.57      0.09      0.16       279\n",
      "\n",
      "    accuracy                           0.62      1598\n",
      "   macro avg       0.54      0.27      0.29      1598\n",
      "weighted avg       0.58      0.62      0.53      1598\n",
      "\n"
     ]
    }
   ],
   "execution_count": 38
  }
 ],
 "metadata": {
  "kernelspec": {
   "display_name": "Python 3",
   "language": "python",
   "name": "python3"
  },
  "language_info": {
   "codemirror_mode": {
    "name": "ipython",
    "version": 2
   },
   "file_extension": ".py",
   "mimetype": "text/x-python",
   "name": "python",
   "nbconvert_exporter": "python",
   "pygments_lexer": "ipython2",
   "version": "2.7.6"
  }
 },
 "nbformat": 4,
 "nbformat_minor": 5
}
